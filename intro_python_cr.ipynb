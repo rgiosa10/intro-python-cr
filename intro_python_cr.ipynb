{
 "cells": [
  {
   "cell_type": "code",
   "execution_count": 1,
   "metadata": {},
   "outputs": [],
   "source": [
    "list_1 = []\n",
    "\n",
    "def list_sayer(list_1):\n",
    "    if len(list_1) > 0:\n",
    "        for index in list_1:\n",
    "            print(f\"The name of item is {list_1[index]} at index {index}\")\n",
    "        return True\n",
    "    else: \n",
    "        print(\"The list is emply\")\n",
    "        return False"
   ]
  }
 ],
 "metadata": {
  "kernelspec": {
   "display_name": "Python 3.7.15 ('venv': venv)",
   "language": "python",
   "name": "python3"
  },
  "language_info": {
   "codemirror_mode": {
    "name": "ipython",
    "version": 3
   },
   "file_extension": ".py",
   "mimetype": "text/x-python",
   "name": "python",
   "nbconvert_exporter": "python",
   "pygments_lexer": "ipython3",
   "version": "3.7.15"
  },
  "orig_nbformat": 4,
  "vscode": {
   "interpreter": {
    "hash": "bb7a6ad3ebdf64c7c62d57b2ff25dc947e9d4b25235a0180f3a371a6e267b711"
   }
  }
 },
 "nbformat": 4,
 "nbformat_minor": 2
}
