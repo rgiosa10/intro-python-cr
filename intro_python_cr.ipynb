{
 "cells": [
  {
   "cell_type": "markdown",
   "metadata": {},
   "source": [
    "1. A function called list_sayer() that takes a list as an argument\n",
    "\n",
    "* If the list isn't empty (i.e. there's one or more items in it):\n",
    "    * print a string for each item saying the name of the item and its index\n",
    "    * return the Boolean True\n",
    "* If the list is empty:\n",
    "    * print a string saying that the list is empty\n",
    "    * return the Boolean False"
   ]
  },
  {
   "cell_type": "code",
   "execution_count": 2,
   "metadata": {},
   "outputs": [
    {
     "name": "stdout",
     "output_type": "stream",
     "text": [
      "The name of item is hello at index 0\n",
      "The name of item is world at index 1\n",
      "The name of item is 9 at index 2\n"
     ]
    },
    {
     "data": {
      "text/plain": [
       "True"
      ]
     },
     "execution_count": 2,
     "metadata": {},
     "output_type": "execute_result"
    }
   ],
   "source": [
    "list_1 = [\"hello\", \"world\", 9]\n",
    "\n",
    "def list_sayer(list_1):\n",
    "    if len(list_1) > 0:\n",
    "        for index in range(len(list_1)):\n",
    "            print(f\"The name of item is {list_1[index]} at index {index}\")\n",
    "        return True\n",
    "    else: \n",
    "        print(\"The list is empty\")\n",
    "        return False\n",
    "\n",
    "list_sayer(list_1)"
   ]
  },
  {
   "cell_type": "markdown",
   "metadata": {},
   "source": [
    "2. A function called dict_sayer() that takes a dictionary as an argument\n",
    "\n",
    "* If the dictionary isn't empty (i.e. there's one or more items in it):\n",
    "  * print a string for each item saying the name of each key and its value\n",
    "  * return the Boolean True\n",
    "* If the dictionary is empty:\n",
    "  * print a string saying that the dictionary is empty\n",
    "  * return the Boolean False"
   ]
  },
  {
   "cell_type": "code",
   "execution_count": 4,
   "metadata": {},
   "outputs": [
    {
     "name": "stdout",
     "output_type": "stream",
     "text": [
      "The dictionary is empty\n"
     ]
    },
    {
     "data": {
      "text/plain": [
       "False"
      ]
     },
     "execution_count": 4,
     "metadata": {},
     "output_type": "execute_result"
    }
   ],
   "source": [
    "dict_1 = {\"name\": \"Ruben\", \"age\": 36, \"dog's name\": \"Messi\"}\n",
    "\n",
    "def dict_sayer(dict_1):\n",
    "    if len(dict_1) > 0:\n",
    "        for key, value in dict_1.items():\n",
    "            print(f\"The name of key is '{key}' with a value '{value}'\")\n",
    "        return True\n",
    "    else: \n",
    "        print(\"The dictionary is empty\")\n",
    "        return False\n",
    "\n",
    "\n",
    "dict_sayer(dict_1)"
   ]
  },
  {
   "cell_type": "markdown",
   "metadata": {},
   "source": [
    "3. A function called greatest() that takes as an argument a dictionary that has strings as keys and integers as values\n",
    "\n",
    "* find the greatest value\n",
    "* return a tuple with the greatest value and its key"
   ]
  },
  {
   "cell_type": "code",
   "execution_count": 27,
   "metadata": {},
   "outputs": [
    {
     "data": {
      "text/plain": [
       "(5, 'Brazil')"
      ]
     },
     "execution_count": 27,
     "metadata": {},
     "output_type": "execute_result"
    }
   ],
   "source": [
    "top_wc_winners = {\"Argentina\": 2, \"Italy\": 4, \"Brazil\": 5, \"Germany\": 4, \"France\": 2, \"Uruguay\": 2}\n",
    "\n",
    "def greatest(top_wc_winners):\n",
    "    container_list = [0, None]\n",
    "    for key, value in top_wc_winners.items():\n",
    "        if value > container_list[0]: \n",
    "            container_list[0] = value\n",
    "            container_list[1] = key\n",
    "    return tuple(container_list)\n",
    "\n",
    "greatest(top_wc_winners)"
   ]
  },
  {
   "cell_type": "markdown",
   "metadata": {},
   "source": [
    "Running test to build logic if highest value shows up multiple times, which key to pick"
   ]
  },
  {
   "cell_type": "code",
   "execution_count": 25,
   "metadata": {},
   "outputs": [
    {
     "data": {
      "text/plain": [
       "(5, 'Brazil')"
      ]
     },
     "execution_count": 25,
     "metadata": {},
     "output_type": "execute_result"
    }
   ],
   "source": [
    "top_wc_winners = {\"Argentina\": 2, \"Italy\": 4, \"Germany\": 4, \"Brazil\": 5, \"France\": 2, \"Uruguay\": 2}\n",
    "\n",
    "def greatest(top_wc_winners):\n",
    "    container_list = [0, None]\n",
    "    for key, value in top_wc_winners.items():\n",
    "        if value > container_list[0]: \n",
    "            container_list[0] = value\n",
    "            container_list[1] = key\n",
    "    \n",
    "    tied_top_counter = 0\n",
    "    tied_top_value = []\n",
    "    \n",
    "    for value in top_wc_winners.values():\n",
    "        if value == container_list[0]:\n",
    "            tied_top_counter += 1\n",
    "    \n",
    "    if tied_top_counter > 1:\n",
    "        for key, value in top_wc_winners.items():\n",
    "            if value == container_list[0]:\n",
    "                tied_top_value.append(key)\n",
    "        tied_top_value.sort()\n",
    "        print(tied_top_value)\n",
    "        container_list[1] = tied_top_value[0]\n",
    "\n",
    "    return tuple(container_list)\n",
    "\n",
    "greatest(top_wc_winners)"
   ]
  },
  {
   "cell_type": "markdown",
   "metadata": {},
   "source": [
    "4. A function called zipper() that takes two lists as arguments\n",
    "\n",
    "* If the lists are the same length:\n",
    "  * return a dictionary that has the items of the first list as keys, and each item in the same index in the second list as the value > For instance, the lists [\"vanilla\", \"cherry\"] and [\"cake\", \"ice_cream\"] would return {\"vanilla\": \"cake\", \"cherry\": \"ice_cream\"}\n",
    "* If the lists are different lengths:\n",
    "  * return a tuple with each list and its length > For instance, the lists [\"vanilla\", \"cherry\", \"pistachio\"] and [\"cake\", \"ice_cream\"] would return ([\"vanilla\", \"cherry\", \"pistachio\"], 3, [\"cake\", \"ice_cream\"], 4)"
   ]
  },
  {
   "cell_type": "code",
   "execution_count": 7,
   "metadata": {},
   "outputs": [
    {
     "data": {
      "text/plain": [
       "(['vanilla', 'cherry', 'pistachio', 'chocolate'], 4, ['cake', 'ice_cream'], 2)"
      ]
     },
     "execution_count": 7,
     "metadata": {},
     "output_type": "execute_result"
    }
   ],
   "source": [
    "flavor_list_1 = [\"vanilla\", \"cherry\", \"pistachio\", \"chocolate\"]\n",
    "flavor_list_2 = [\"cake\", \"ice_cream\"]\n",
    "\n",
    "def zipper(flavor_list_1, flavor_list_2):\n",
    "    same_len_output = {}\n",
    "    diff_len_output_list = []\n",
    "    \n",
    "    if len(flavor_list_1) == len(flavor_list_2):\n",
    "        for i in range(len(flavor_list_1)):\n",
    "            same_len_output[flavor_list_1[i]] = flavor_list_2[i]\n",
    "        return same_len_output\n",
    "    elif len(flavor_list_1) != len(flavor_list_2):\n",
    "        diff_len_output_list.append(flavor_list_1)\n",
    "        diff_len_output_list.append(len(flavor_list_1))\n",
    "        diff_len_output_list.append(flavor_list_2)\n",
    "        diff_len_output_list.append(len(flavor_list_2))\n",
    "        return tuple(diff_len_output_list)\n",
    "\n",
    "zipper(flavor_list_1, flavor_list_2)"
   ]
  }
 ],
 "metadata": {
  "kernelspec": {
   "display_name": "Python 3.7.15 ('venv': venv)",
   "language": "python",
   "name": "python3"
  },
  "language_info": {
   "codemirror_mode": {
    "name": "ipython",
    "version": 3
   },
   "file_extension": ".py",
   "mimetype": "text/x-python",
   "name": "python",
   "nbconvert_exporter": "python",
   "pygments_lexer": "ipython3",
   "version": "3.7.15"
  },
  "orig_nbformat": 4,
  "vscode": {
   "interpreter": {
    "hash": "bb7a6ad3ebdf64c7c62d57b2ff25dc947e9d4b25235a0180f3a371a6e267b711"
   }
  }
 },
 "nbformat": 4,
 "nbformat_minor": 2
}
