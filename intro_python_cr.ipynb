{
 "cells": [
  {
   "cell_type": "markdown",
   "metadata": {},
   "source": [
    "## Exercise 1: \n",
    "#### A function called `list_sayer()` that takes a list as an argument\n",
    "\n",
    "* If the list isn't empty (i.e. there's one or more items in it):\n",
    "    * print a string for each item saying the name of the item and its index\n",
    "    * return the Boolean `True`\n",
    "* If the list is empty:\n",
    "    * print a string saying that the list is empty\n",
    "    * return the Boolean `False`\n",
    "\n",
    "#### Below is the code for the solution for `list_sayer()`:"
   ]
  },
  {
   "cell_type": "code",
   "execution_count": 52,
   "metadata": {},
   "outputs": [
    {
     "name": "stdout",
     "output_type": "stream",
     "text": [
      "The name of item is Hello at index 0\n",
      "The name of item is world at index 1\n",
      "The name of item is 9 at index 2\n",
      "The name of item is 3.14 at index 3\n",
      "True\n",
      "The list is empty\n",
      "False\n"
     ]
    }
   ],
   "source": [
    "list_1 = [\"Hello\", \"world\", 9, 3.14]\n",
    "list_2 = []\n",
    "\n",
    "def list_sayer(list_1):\n",
    "    # If the list isn't empty (i.e. there's one or more items in it)\n",
    "    if len(list_1) > 0:\n",
    "        for index in range(len(list_1)):\n",
    "            # print a string for each item saying the name of the item and its index\n",
    "            print(f\"The name of item is {list_1[index]} at index {index}\")\n",
    "        # return the Boolean True\n",
    "        return True\n",
    "    # If the list is empty\n",
    "    else:\n",
    "        # print a string saying that the list is empty\n",
    "        print(\"The list is empty\")\n",
    "        # return the Boolean False\n",
    "        return False\n",
    "\n",
    "print(list_sayer(list_1))\n",
    "print(list_sayer(list_2))"
   ]
  },
  {
   "cell_type": "markdown",
   "metadata": {},
   "source": [
    "## Exercise 2: \n",
    "#### A function called `dict_sayer()` that takes a dictionary as an argument\n",
    "\n",
    "* If the dictionary isn't empty (i.e. there's one or more items in it):\n",
    "  * print a string for each item saying the name of each key and its value\n",
    "  * return the Boolean `True`\n",
    "* If the dictionary is empty:\n",
    "  * print a string saying that the dictionary is empty\n",
    "  * return the Boolean `False`\n",
    "\n",
    "#### Below is the code for the solution for `dict_sayer()`:"
   ]
  },
  {
   "cell_type": "code",
   "execution_count": 51,
   "metadata": {},
   "outputs": [
    {
     "name": "stdout",
     "output_type": "stream",
     "text": [
      "The name of key is 'name' with a value 'Ruben'\n",
      "The name of key is 'age' with a value '36'\n",
      "The name of key is 'dog's name' with a value 'Messi'\n",
      "True\n",
      "The dictionary is empty\n",
      "False\n"
     ]
    }
   ],
   "source": [
    "dict_1 = {\n",
    "    \"name\": \"Ruben\",\n",
    "    \"age\": 36,\n",
    "    \"dog's name\": \"Messi\",\n",
    "    }\n",
    "\n",
    "dict_2 = {}\n",
    "\n",
    "def dict_sayer(dict_1):\n",
    "    # If the dictionary isn't empty (i.e. there's one or more items in it)\n",
    "    if len(dict_1) > 0:\n",
    "        # print a string for each item saying the name of each key and its value\n",
    "        for key, value in dict_1.items():\n",
    "            print(f\"The name of key is '{key}' with a value '{value}'\")\n",
    "        # return the Boolean True\n",
    "        return True\n",
    "    # If the dictionary is empty\n",
    "    else: \n",
    "        # print a string saying that the dictionary is empty\n",
    "        print(\"The dictionary is empty\")\n",
    "        # return the Boolean False\n",
    "        return False\n",
    "\n",
    "print(dict_sayer(dict_1))\n",
    "print(dict_sayer(dict_2))"
   ]
  },
  {
   "cell_type": "markdown",
   "metadata": {},
   "source": [
    "## Exercise 3: \n",
    "#### A function called `greatest()` that takes as an argument a dictionary that has strings as keys and integers as values\n",
    "\n",
    "* find the greatest value\n",
    "* return a tuple with the greatest value and its key\n",
    "\n",
    "#### Below is the code for the solution for `greatest()`:"
   ]
  },
  {
   "cell_type": "code",
   "execution_count": 50,
   "metadata": {},
   "outputs": [
    {
     "name": "stdout",
     "output_type": "stream",
     "text": [
      "(5, 'Brazil')\n",
      "(5, 'Argentina')\n"
     ]
    }
   ],
   "source": [
    "top_wc_winners = {\n",
    "    \"Argentina\": 2,\n",
    "    \"Germany\": 4,\n",
    "    \"Italy\": 4, \n",
    "    \"France\": 2, \n",
    "    \"Uruguay\": 2, \n",
    "    \"Brazil\": 5,\n",
    "    }\n",
    "\n",
    "top_wc_winners_hope = {\n",
    "    \"Germany\": 4,\n",
    "    \"Italy\": 4, \n",
    "    \"France\": 2, \n",
    "    \"Uruguay\": 2, \n",
    "    \"Brazil\": 5,\n",
    "    \"Argentina\": 5,\n",
    "    }\n",
    "\n",
    "def greatest(top_wc_winners):\n",
    "    largest_value = 0\n",
    "    largest_key = None\n",
    "    container_list = [largest_value, largest_key]\n",
    "    #check each key, value in dictionary\n",
    "    for key, value in top_wc_winners.items():\n",
    "        # find the greatest value in dictionary by comparing against index 0 of container_list\n",
    "        if value > container_list[0]:\n",
    "            container_list[0] = value\n",
    "            container_list[1] = key\n",
    "\n",
    "    # Counts how many iterances of the greatest value there are\n",
    "    tied_top_counter = 0\n",
    "    # Captures each key of the multiple instances of the greatest value\n",
    "    tied_top_value = []\n",
    "    \n",
    "    # Counts if the greatest value occurs multiple times\n",
    "    for value in top_wc_winners.values():\n",
    "        if value == container_list[0]:\n",
    "            tied_top_counter += 1\n",
    "    \n",
    "    # If there are multiple keys with the same greatest value it adds it to tied_top_value list\n",
    "    if tied_top_counter > 1:\n",
    "        for key, value in top_wc_winners.items():\n",
    "            if value == container_list[0]:\n",
    "                tied_top_value.append(key)\n",
    "        # Sorts list alphabetically to pick greatest value key based on alphabetical order using first letter of the key\n",
    "        tied_top_value.sort()\n",
    "        # Add key based on alphabetical order as the greatest value key\n",
    "        container_list[1] = tied_top_value[0]\n",
    "  \n",
    "    # return a tuple with the greatest value and its key\n",
    "    return tuple(container_list)\n",
    "\n",
    "print(greatest(top_wc_winners)) \n",
    "print(greatest(top_wc_winners_hope))"
   ]
  },
  {
   "cell_type": "markdown",
   "metadata": {},
   "source": [
    "## Exercise 4:\n",
    "#### A function called `zipper()` that takes two lists as arguments\n",
    "\n",
    "* If the lists are the same length:\n",
    "  * return a dictionary that has the items of the first list as keys, and each item in the same index in the second list as the value > For instance, the lists `[\"vanilla\", \"cherry\"]` and `[\"cake\", \"ice_cream\"]` would return `{\"vanilla\": \"cake\", \"cherry\": \"ice_cream\"}`\n",
    "* If the lists are different lengths:\n",
    "  * return a tuple with each list and its length > For instance, the lists `[\"vanilla\", \"cherry\", \"pistachio\"]` and `[\"cake\", \"ice_cream\"]` would return `([\"vanilla\", \"cherry\", \"pistachio\"], 3, [\"cake\", \"ice_cream\"], 4)`\n",
    "\n",
    "#### Below is the code for the solution for `zipper()`:"
   ]
  },
  {
   "cell_type": "code",
   "execution_count": 48,
   "metadata": {},
   "outputs": [
    {
     "name": "stdout",
     "output_type": "stream",
     "text": [
      "{'vanilla': 'cake', 'cherry': 'ice_cream', 'strawberry': 'pistachio'}\n",
      "(['vanilla', 'cherry', 'strawberry'], 3, ['chocolate'], 1)\n"
     ]
    }
   ],
   "source": [
    "flavor_list_1 = [\"vanilla\", \"cherry\", \"strawberry\"]\n",
    "flavor_list_2 = [\"cake\", \"ice_cream\", \"pistachio\"]\n",
    "flavor_list_3 = [\"chocolate\"]\n",
    "\n",
    "def zipper(flavor_list_1, flavor_list_2):\n",
    "    same_len_output = {}\n",
    "    diff_len_output_list = []\n",
    "\n",
    "    # If the lists are the same length\n",
    "    if len(flavor_list_1) == len(flavor_list_2):\n",
    "        # Add each key and value to dictionary \n",
    "        for i in range(len(flavor_list_1)):\n",
    "            same_len_output[flavor_list_1[i]] = flavor_list_2[i]\n",
    "        # return a dictionary that uses items from first list as keys, and each item in the same index in the second list as the value\n",
    "        return same_len_output\n",
    "    # If the lists are different lengths\n",
    "    elif len(flavor_list_1) != len(flavor_list_2):\n",
    "        diff_len_output_list.append(flavor_list_1)\n",
    "        diff_len_output_list.append(len(flavor_list_1))\n",
    "        diff_len_output_list.append(flavor_list_2)\n",
    "        diff_len_output_list.append(len(flavor_list_2))\n",
    "        # return a tuple with each list and its length\n",
    "        return tuple(diff_len_output_list)\n",
    "print(zipper(flavor_list_1, flavor_list_2))\n",
    "print(zipper(flavor_list_1, flavor_list_3))"
   ]
  }
 ],
 "metadata": {
  "kernelspec": {
   "display_name": "Python 3.7.15 ('venv': venv)",
   "language": "python",
   "name": "python3"
  },
  "language_info": {
   "codemirror_mode": {
    "name": "ipython",
    "version": 3
   },
   "file_extension": ".py",
   "mimetype": "text/x-python",
   "name": "python",
   "nbconvert_exporter": "python",
   "pygments_lexer": "ipython3",
   "version": "3.7.15"
  },
  "orig_nbformat": 4,
  "vscode": {
   "interpreter": {
    "hash": "bb7a6ad3ebdf64c7c62d57b2ff25dc947e9d4b25235a0180f3a371a6e267b711"
   }
  }
 },
 "nbformat": 4,
 "nbformat_minor": 2
}
